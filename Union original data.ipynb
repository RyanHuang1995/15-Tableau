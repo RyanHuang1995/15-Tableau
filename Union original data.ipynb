{
 "cells": [
  {
   "cell_type": "code",
   "execution_count": 29,
   "metadata": {},
   "outputs": [],
   "source": [
    "import pandas as pd"
   ]
  },
  {
   "cell_type": "code",
   "execution_count": 60,
   "metadata": {},
   "outputs": [],
   "source": [
    "# Loop throught files\n",
    "df = []\n",
    "for i in range(1,10):\n",
    "    file = f\"./JC-20180{i}-citibike-tripdata.csv\"\n",
    "    globals()['df%s' % i] = pd.read_csv(file)\n",
    "    df.append(globals()['df%s' % i])\n",
    "    \n",
    "    \n",
    "\n",
    "citi_bike_2018 = pd.concat(df)\n",
    "sel_rows = citi_bike_2018.loc[citi_bike_2018[\"gender\"] == 0,:].index\n",
    "citi_bike_2018 = citi_bike_2018.drop(sel_rows,axis=0)"
   ]
  },
  {
   "cell_type": "code",
   "execution_count": 61,
   "metadata": {},
   "outputs": [],
   "source": [
    "# Output as CSV file\n",
    "citi_bike_2018.to_csv(\"citi_bike_2018.csv\")"
   ]
  },
  {
   "cell_type": "code",
   "execution_count": null,
   "metadata": {},
   "outputs": [],
   "source": []
  }
 ],
 "metadata": {
  "kernelspec": {
   "display_name": "Python 3",
   "language": "python",
   "name": "python3"
  },
  "language_info": {
   "codemirror_mode": {
    "name": "ipython",
    "version": 3
   },
   "file_extension": ".py",
   "mimetype": "text/x-python",
   "name": "python",
   "nbconvert_exporter": "python",
   "pygments_lexer": "ipython3",
   "version": "3.6.4"
  }
 },
 "nbformat": 4,
 "nbformat_minor": 2
}
